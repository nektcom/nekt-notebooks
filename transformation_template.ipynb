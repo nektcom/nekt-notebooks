{
 "cells": [
  {
   "cell_type": "markdown",
   "metadata": {},
   "source": [
    "# Insert data access token\n",
    "You have to generate an access token in order to securely access data from your Lake at Nekt. When generating the token you can associate it with one or more tables.\n",
    "\n",
    "Follow the steps on this link to get your token:\n",
    "https://app.nekt.ai/transformations?modal=tokens\n",
    "\n",
    "# ⚠️ When creating your transformation at Nekt, do not copy this section ⚠️"
   ]
  },
  {
   "cell_type": "code",
   "execution_count": null,
   "metadata": {},
   "outputs": [],
   "source": [
    "from nekt.sdk import TransformationClient\n",
    "\n",
    "data_access_token = \"INSERT_YOUR_TOKEN_HERE\"\n",
    "client: TransformationClient = TransformationClient(data_access_token)"
   ]
  },
  {
   "cell_type": "markdown",
   "metadata": {},
   "source": [
    "# Transformation code\n",
    "When you validate that your transformation works as expected, copy all the code from the next cells into Nekt to run it in production."
   ]
  },
  {
   "cell_type": "code",
   "execution_count": 2,
   "metadata": {},
   "outputs": [
    {
     "name": "stderr",
     "output_type": "stream",
     "text": [
      "25/06/12 17:28:02 WARN MetricsConfig: Cannot locate configuration: tried hadoop-metrics2-s3a-file-system.properties,hadoop-metrics2.properties\n",
      "25/06/12 17:28:20 WARN SparkStringUtils: Truncated the string representation of a plan since it was too large. This behavior can be adjusted by setting 'spark.sql.debug.maxToStringFields'.\n",
      "                                                                                \r"
     ]
    }
   ],
   "source": [
    "# Custom imports\n",
    "import nekt\n",
    "from pyspark.sql import DataFrame\n",
    "from pyspark.sql import functions as F\n",
    "\n",
    "# Load tables (you can load multiple tables):\n",
    "deals_df: DataFrame = nekt.load_table(layer_name=\"Extraction\", table_name=\"pipedrive_deals\")\n",
    "persons_df: DataFrame = nekt.load_table(layer_name=\"Extraction\", table_name=\"pipedrive_persons\")\n",
    "\n",
    "# Your logic\n",
    "deals_persons_df: DataFrame = (\n",
    "    deals_df.join(\n",
    "        persons_df.withColumnRenamed(\"id\", \"person_id\"), \n",
    "        on=\"person_id\",\n",
    "    )\n",
    ")\n",
    "high_value_deals_df: DataFrame = deals_persons_df.filter(F.col(\"value\") > 1000)\n",
    "\n",
    "# Save tables (you can save multiple tables):\n",
    "nekt.save_table(df=deals_persons_df, layer_name=\"Trusted\", table_name=\"pipedrive_deals_persons\")\n",
    "nekt.save_table(df=high_value_deals_df, layer_name=\"Service\", table_name=\"pipedrive_high_value_deals\")"
   ]
  }
 ],
 "metadata": {
  "kernelspec": {
   "display_name": "Python 3",
   "language": "python",
   "name": "python3"
  },
  "language_info": {
   "codemirror_mode": {
    "name": "ipython",
    "version": 3
   },
   "file_extension": ".py",
   "mimetype": "text/x-python",
   "name": "python",
   "nbconvert_exporter": "python",
   "pygments_lexer": "ipython3",
   "version": "3.9.22"
  },
  "orig_nbformat": 4
 },
 "nbformat": 4,
 "nbformat_minor": 2
}
