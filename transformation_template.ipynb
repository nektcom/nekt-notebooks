{
 "cells": [
  {
   "cell_type": "markdown",
   "metadata": {},
   "source": [
    "# Insert data access token\n",
    "You have to generate an access token in order to securely access data from your Lake at Nekt. When generating the token you can associate it with one or more tables.\n",
    "\n",
    "Follow the steps on this link to get your token:\n",
    "https://app.nekt.ai/transformations?modal=tokens\n",
    "\n",
    "# ⚠️ When creating your transformation at Nekt, do not copy this section ⚠️"
   ]
  },
  {
   "cell_type": "code",
   "execution_count": null,
   "metadata": {},
   "outputs": [],
   "source": [
    "import nekt\n",
    "\n",
    "nekt.data_access_token = \"INSERT_YOUR_TOKEN_HERE\""
   ]
  },
  {
   "cell_type": "markdown",
   "metadata": {},
   "source": [
    "# Transformation code\n",
    "When you validate that your transformation works as expected, copy all the code from the next cells into Nekt to run it in production."
   ]
  },
  {
   "cell_type": "code",
   "execution_count": null,
   "metadata": {},
   "outputs": [],
   "source": [
    "# Custom imports\n",
    "import nekt\n",
    "from pyspark.sql import DataFrame\n",
    "from pyspark.sql import functions as F\n",
    "\n",
    "# Spark session (you can use if you need to access spark native methods)\n",
    "# spark = nekt.get_spark_session()\n",
    "\n",
    "# Load your source tables (you can load multiple tables)\n",
    "deals_df: DataFrame = nekt.load_table(layer_name=\"Extraction\", table_name=\"pipedrive_deals\")\n",
    "persons_df: DataFrame = nekt.load_table(layer_name=\"Extraction\", table_name=\"pipedrive_persons\")\n",
    "\n",
    "# Apply your data logic, modeling, or AI workflow here\n",
    "deals_persons_df: DataFrame = (\n",
    "    deals_df.join(\n",
    "        persons_df.withColumnRenamed(\"id\", \"person_id\"), \n",
    "        on=\"person_id\",\n",
    "    )\n",
    ")\n",
    "high_value_deals_df: DataFrame = deals_persons_df.filter(F.col(\"value\") > 1000)\n",
    "\n",
    "# Save your results to one or more output tables\n",
    "nekt.save_table(\n",
    "    df=deals_persons_df,\n",
    "    layer_name=\"Trusted\",\n",
    "    table_name=\"pipedrive_deals_persons\",\n",
    ")\n",
    "nekt.save_table(\n",
    "    df=high_value_deals_df,\n",
    "    layer_name=\"Service\",\n",
    "    table_name=\"pipedrive_high_value_deals\",\n",
    "    folder_name=\"Reports\", # Optional, if you want to save the table in a specific folder\n",
    ")"
   ]
  }
 ],
 "metadata": {
  "kernelspec": {
   "display_name": ".venv",
   "language": "python",
   "name": "python3"
  },
  "language_info": {
   "codemirror_mode": {
    "name": "ipython",
    "version": 3
   },
   "file_extension": ".py",
   "mimetype": "text/x-python",
   "name": "python",
   "nbconvert_exporter": "python",
   "pygments_lexer": "ipython3",
   "version": "3.9.19"
  },
  "orig_nbformat": 4
 },
 "nbformat": 4,
 "nbformat_minor": 2
}
